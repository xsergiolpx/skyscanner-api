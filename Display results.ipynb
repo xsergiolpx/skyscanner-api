{
 "cells": [
  {
   "cell_type": "code",
   "execution_count": 79,
   "metadata": {},
   "outputs": [],
   "source": [
    "import matplotlib.pyplot as plt\n",
    "import numpy as np\n",
    "import pandas as pd\n",
    "import glob\n",
    "import calendar\n",
    "import datetime"
   ]
  },
  {
   "cell_type": "code",
   "execution_count": 80,
   "metadata": {},
   "outputs": [],
   "source": [
    "pd.options.display.max_rows = 999"
   ]
  },
  {
   "cell_type": "code",
   "execution_count": null,
   "metadata": {},
   "outputs": [],
   "source": [
    "listfiles = glob.glob(\"data/*.parquet\")\n",
    "df = pd.concat([pd.read_parquet(l).head(10) for l in listfiles]).reset_index().drop(\"index\", axis=1).sort_values(\"price\")\n",
    "print(\"Retrieved flights:\", df.shape[0])"
   ]
  },
  {
   "cell_type": "markdown",
   "metadata": {},
   "source": [
    "### Add information about the dates"
   ]
  },
  {
   "cell_type": "code",
   "execution_count": null,
   "metadata": {},
   "outputs": [],
   "source": [
    "df[\"outbound_Departure_Hour\"] = df[\"outbound_Departure\"].apply(lambda x: x[11:])\n",
    "df[\"inbound_Departure_Hour\"] = df[\"inbound_Departure\"].apply(lambda x: x[11:])\n",
    "df[\"outbound_Arrival_Hour\"] = df[\"outbound_Arrival\"].apply(lambda x: x[11:])\n",
    "df[\"inbound_Arrival_Hour\"] = df[\"inbound_Arrival\"].apply(lambda x: x[11:])\n",
    "\n",
    "df[\"outbound_Departure_Date\"] = df[\"outbound_Departure\"].apply(lambda x: datetime.datetime.strptime(x[:10], '%Y-%m-%d'))\n",
    "df[\"inbound_Departure_Date\"] = df[\"inbound_Departure\"].apply(lambda x: datetime.datetime.strptime(x[:10], '%Y-%m-%d'))\n",
    "df[\"outbound_Arrival_Date\"] = df[\"outbound_Arrival\"].apply(lambda x: datetime.datetime.strptime(x[:10], '%Y-%m-%d'))\n",
    "df[\"inbound_Arrival_Date\"] = df[\"inbound_Arrival\"].apply(lambda x: datetime.datetime.strptime(x[:10], '%Y-%m-%d'))\n",
    "\n",
    "df[\"days\"] = df[\"inbound_Departure_Date\"] - df[\"outbound_Departure_Date\"]\n",
    "df[\"inbound_Departure_Date_weekday\"] = df[\"inbound_Departure_Date\"].apply(lambda x: calendar.day_name[x.weekday()])\n",
    "df[\"outbound_Departure_Date_weekday\"] = df[\"outbound_Departure_Date\"].apply(lambda x: calendar.day_name[x.weekday()])\n",
    "df[\"inbound_Arrival_Date_weekday\"] = df[\"inbound_Arrival_Date\"].apply(lambda x: calendar.day_name[x.weekday()])\n",
    "df[\"outbound_Arrival_Date_weekday\"] = df[\"outbound_Arrival_Date\"].apply(lambda x: calendar.day_name[x.weekday()])\n",
    "\n",
    "\n",
    "def holiday(_x):\n",
    "    c = 0\n",
    "    if (_x[\"outbound_Arrival_Date\"] >= datetime.datetime.strptime(\"2019-12-25\", '%Y-%m-%d')) and (_x[\"inbound_Departure_Date\"] <= datetime.datetime.strptime(\"2019-12-25\", '%Y-%m-%d')):\n",
    "        c = c + 1\n",
    "    if (_x[\"outbound_Arrival_Date\"] >= datetime.datetime.strptime(\"2019-12-26\", '%Y-%m-%d')) and (_x[\"inbound_Departure_Date\"] <= datetime.datetime.strptime(\"2019-12-26\", '%Y-%m-%d')):\n",
    "        c = c + 1\n",
    "    if (_x[\"outbound_Arrival_Date\"] >= datetime.datetime.strptime(\"2020-01-01\", '%Y-%m-%d')) and (_x[\"inbound_Departure_Date\"] <= datetime.datetime.strptime(\"2020-01-01\", '%Y-%m-%d')):\n",
    "        c = c + 1\n",
    "\n",
    "    return c\n",
    "\n",
    "df[\"weekdays\"] = df.apply(lambda x: np.busday_count(x[\"outbound_Arrival_Date\"].date(),  x[\"inbound_Departure_Date\"].date()) - holiday(x), axis=1)\n",
    "df[\"weekdays_to_days_ratio\"] = df[\"weekdays\"]/df[\"days\"].apply(lambda x: x/ np.timedelta64(1, 'D'))\n"
   ]
  },
  {
   "cell_type": "code",
   "execution_count": null,
   "metadata": {},
   "outputs": [],
   "source": [
    "df.head(500)"
   ]
  },
  {
   "cell_type": "code",
   "execution_count": null,
   "metadata": {},
   "outputs": [],
   "source": [
    "df[\n",
    "    (df[\"weekdays\"]<= 8) &\\\n",
    "    (df[\"days\"]> np.timedelta64(8, 'D')) &\\\n",
    "    (df[\"destinationPlace\"] == \"CEB\")\n",
    "  ]"
   ]
  },
  {
   "cell_type": "code",
   "execution_count": null,
   "metadata": {},
   "outputs": [],
   "source": [
    "plt.figure(dpi=200)\n",
    "plt.yscale('log', nonposy='clip')\n",
    "plt.hist(df[\"price\"].values, bins=np.linspace(150,1000,100), edgecolor=\"black\")\n",
    "plt.show()"
   ]
  },
  {
   "cell_type": "code",
   "execution_count": null,
   "metadata": {},
   "outputs": [],
   "source": []
  },
  {
   "cell_type": "code",
   "execution_count": null,
   "metadata": {},
   "outputs": [],
   "source": []
  },
  {
   "cell_type": "code",
   "execution_count": null,
   "metadata": {},
   "outputs": [],
   "source": []
  },
  {
   "cell_type": "code",
   "execution_count": null,
   "metadata": {},
   "outputs": [],
   "source": []
  },
  {
   "cell_type": "code",
   "execution_count": null,
   "metadata": {},
   "outputs": [],
   "source": []
  }
 ],
 "metadata": {
  "kernelspec": {
   "display_name": "Python 3",
   "language": "python",
   "name": "python3"
  },
  "language_info": {
   "codemirror_mode": {
    "name": "ipython",
    "version": 3
   },
   "file_extension": ".py",
   "mimetype": "text/x-python",
   "name": "python",
   "nbconvert_exporter": "python",
   "pygments_lexer": "ipython3",
   "version": "3.6.6"
  }
 },
 "nbformat": 4,
 "nbformat_minor": 2
}
